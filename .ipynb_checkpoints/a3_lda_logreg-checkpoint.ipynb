{
 "cells": [
  {
   "cell_type": "code",
   "execution_count": 1,
   "id": "95f5ed9d-6e5d-4a90-a561-91b1641ee913",
   "metadata": {},
   "outputs": [],
   "source": [
    "import pandas as pd\n",
    "import numpy as np\n",
    "import math\n",
    "import matplotlib.pyplot as plt\n",
    "import sklearn.datasets\n",
    "from sklearn.discriminant_analysis import LinearDiscriminantAnalysis\n",
    "from sklearn.linear_model import LogisticRegression\n",
    "from sklearn.model_selection import train_test_split\n",
    "from sklearn.preprocessing import StandardScaler\n",
    "pd.options.mode.chained_assignment = None"
   ]
  },
  {
   "cell_type": "code",
   "execution_count": 169,
   "id": "35ea360b-e6b5-4c40-8b3d-35de8dda7045",
   "metadata": {},
   "outputs": [],
   "source": [
    "iris = sklearn.datasets.load_iris(as_frame=True)\n",
    "irisX = iris.data\n",
    "irisy = iris.target\n",
    "setA = irisy <= 1\n",
    "setB = irisy > 0\n",
    "setC = irisy != 1\n",
    "\n",
    "irisAX = irisX[setA]\n",
    "irisAy = irisy[setA]\n",
    "irisBX = irisX[setB]\n",
    "irisBy = irisy[setB] - 1\n",
    "irisCX = irisX[setC]\n",
    "irisCy = irisy[setC]/2\n",
    "\n",
    "trainXs = [irisAX,irisBX,irisCX]\n",
    "trainys = [irisAy,irisBy,irisCy]"
   ]
  },
  {
   "cell_type": "code",
   "execution_count": 7,
   "id": "f3612377-39ac-43e1-93c7-8b86e99fc77a",
   "metadata": {},
   "outputs": [],
   "source": [
    "# creates a random unit vector of ndim dimensions\n",
    "def ruvect(ndim):\n",
    "    out=[]\n",
    "    for i in range(ndim):\n",
    "        out.append(np.random.randint(-100,100))\n",
    "    out = np.array(out)\n",
    "    out = out/np.linalg.norm(out)\n",
    "    return out"
   ]
  },
  {
   "cell_type": "code",
   "execution_count": 8,
   "id": "4b1d543b-38d5-4949-8244-4a63308239ab",
   "metadata": {},
   "outputs": [],
   "source": [
    "# finds centroid of list of points in np array of nxd dimensions, returns point of d dims\n",
    "def calc_centroid(cluster):\n",
    "    return np.mean(cluster, axis=0)"
   ]
  },
  {
   "cell_type": "code",
   "execution_count": 213,
   "id": "aa55ff0c-da1d-48bb-87de-ee42b8aaa7bb",
   "metadata": {},
   "outputs": [
    {
     "data": {
      "text/plain": [
       "array([ True,  True,  True,  True,  True,  True,  True,  True,  True,\n",
       "        True,  True,  True,  True,  True,  True,  True,  True,  True,\n",
       "        True,  True,  True,  True,  True,  True,  True,  True,  True,\n",
       "        True,  True,  True,  True,  True,  True,  True,  True,  True,\n",
       "        True,  True,  True,  True,  True,  True,  True,  True,  True,\n",
       "        True,  True,  True,  True,  True,  True,  True,  True,  True,\n",
       "        True,  True,  True,  True,  True,  True,  True,  True,  True,\n",
       "        True,  True,  True,  True,  True,  True,  True,  True,  True,\n",
       "        True,  True,  True,  True,  True,  True,  True,  True,  True,\n",
       "        True,  True,  True,  True,  True,  True,  True,  True,  True,\n",
       "        True,  True,  True,  True,  True,  True,  True,  True,  True,\n",
       "        True])"
      ]
     },
     "execution_count": 213,
     "metadata": {},
     "output_type": "execute_result"
    }
   ],
   "source": [
    "# X and y expected to be numpy arrays where y only contains 0's and 1's\n",
    "def lda(X,y):\n",
    "    # 1 is for intercept L(w) = w0 + w1x1 + w2x2 +...+ wdxd\n",
    "    w = ruvect(X.shape[1]) \n",
    "    \n",
    "    # adds a column of 1's to front (for intercept) -- unecessary as position of w doesnt matter\n",
    "#     X = np.append(np.array([[1] * X.shape[0]]).T, X, axis=1)\n",
    "    X0 = X[y==0]\n",
    "    X1 = X[y==1]\n",
    "    \n",
    "    # Centroids of data (d dimensional)\n",
    "    mu0 = calc_centroid(X0)\n",
    "    mu1 = calc_centroid(X1)\n",
    "    \n",
    "    B = np.einsum(\"i,j->ij\", mu0-mu1, mu0-mu1)\n",
    "    S = np.einsum(\"Nd,Ni->di\", X0-mu0, X0-mu0)\n",
    "    eta = 0.1\n",
    "    djw_norm = 100\n",
    "    iters = 0\n",
    "    while djw_norm > 0.01 and iters<500:\n",
    "        # Derivative of J w\n",
    "        djnum1 = 2*np.matmul(B,w)*(np.matmul(np.matmul(w,S),w))\n",
    "        djnum2 = 2*np.matmul(S,w)*(np.matmul(np.matmul(w,B),w))\n",
    "        djdem = np.matmul(np.matmul(w,S),w)**2\n",
    "        \n",
    "        djw = (djnum1-djnum2)/djdem\n",
    "        w = w + eta*djw\n",
    "        djw_norm = np.linalg.norm(djw)\n",
    "#         print(djw_norm, w)\n",
    "        iters+=1\n",
    "    return w, (np.dot(w,mu0)+np.dot(w,mu1))/2\n",
    "\n",
    "def lda_pred(X,w,sep):\n",
    "    return np.array(np.matmul(w,X.T) < lda_sep)\n",
    "\n",
    "w,sep=lda(irisAX,irisAy)\n",
    "lda_pred(irisAX,w,sep)"
   ]
  },
  {
   "cell_type": "code",
   "execution_count": 171,
   "id": "7d766dbf-4899-4864-8908-dc63022652da",
   "metadata": {},
   "outputs": [],
   "source": [
    "def logreg(X,y):\n",
    "    w = ruvect(X.shape[1]+1)\n",
    "    X = np.append(np.array([[1] * X.shape[0]]).T, X, axis=1) # add intercept col\n",
    "\n",
    "    eta=0.1\n",
    "    errmag = 100\n",
    "    iters=0\n",
    "    while errmag> 0.1 and iters<100:\n",
    "        Xw = np.einsum(\"Nd,d->N\",X,w)\n",
    "        phat = np.divide(1,1+np.exp(-Xw))\n",
    "        derror = np.einsum(\"N,Nd->d\",y-phat,X)\n",
    "        \n",
    "        w += eta*derror\n",
    "        errmag = np.linalg.norm(derror)\n",
    "        iters+=1\n",
    "    return w\n",
    "\n",
    "def logreg_pred(X,w):\n",
    "    X = np.append(np.array([[1] * X.shape[0]]).T, X, axis=1) # add intercept column\n",
    "    return 1.0/(1-np.exp(np.einsum(\"Nd,d->N\",X,w))) < 0.5"
   ]
  },
  {
   "cell_type": "markdown",
   "id": "2def20cc-6567-49d8-b6b9-36319e30d36a",
   "metadata": {},
   "source": [
    "# Comparison"
   ]
  },
  {
   "cell_type": "code",
   "execution_count": 181,
   "id": "15aab060-566d-4ecd-ab21-df5046e4e7c0",
   "metadata": {},
   "outputs": [
    {
     "data": {
      "text/plain": [
       "array([[-0.17823855,  0.46370913, -1.86580277, -1.35796238],\n",
       "       [-0.04615082, -0.33817091,  0.06281054,  0.95485649],\n",
       "       [ 0.1915237 , -0.57184196,  2.6272609 ,  2.4012808 ]])"
      ]
     },
     "execution_count": 181,
     "metadata": {},
     "output_type": "execute_result"
    }
   ],
   "source": [
    "lda_ws=[]\n",
    "lda_seps=[]\n",
    "for x,y in zip(trainXs,trainys):\n",
    "    w,sep = lda(x,y)\n",
    "    lda_ws.append(w)\n",
    "    lda_seps.append(sep)\n",
    "lda_ws=np.asarray(lda_ws)\n",
    "lda_ws"
   ]
  },
  {
   "cell_type": "code",
   "execution_count": 189,
   "id": "2f0a29b8-784d-402c-8814-dcb72109b51a",
   "metadata": {},
   "outputs": [
    {
     "data": {
      "text/plain": [
       "array([[ -3.11507166, -18.39077486,  22.21040275,  31.4736377 ],\n",
       "       [ -3.6288803 ,  -5.69247004,   7.11237519,  12.6388175 ],\n",
       "       [-16.16463467, -12.26541407,  37.26365575,  37.50814735]])"
      ]
     },
     "execution_count": 189,
     "metadata": {},
     "output_type": "execute_result"
    }
   ],
   "source": [
    "lda_sk = LinearDiscriminantAnalysis(solver=\"lsqr\")\n",
    "lda_sk_ws=[]\n",
    "for X,y in zip(trainXs,trainys):\n",
    "    lda_sk.fit(X=X,y=y)\n",
    "    lda_sk_ws.append(lda_sk.coef_)\n",
    "# lda_pred(trainX,lda_sk_w,lda_sep) == trainy\n",
    "lda_sk_ws = np.asarray(lda_sk_ws)[:,0]\n",
    "lda_sk_ws"
   ]
  },
  {
   "cell_type": "code",
   "execution_count": 191,
   "id": "2b8a6c8c-2e2e-4754-a5e9-22c9bcee3ee1",
   "metadata": {},
   "outputs": [
    {
     "data": {
      "text/plain": [
       "array([[ 0.05721812, -0.02521422, -0.08400581, -0.04314603],\n",
       "       [ 0.01271765,  0.05940671,  0.00883116,  0.07554951],\n",
       "       [-0.01184832,  0.04662231,  0.07050465,  0.06402025]])"
      ]
     },
     "execution_count": 191,
     "metadata": {},
     "output_type": "execute_result"
    }
   ],
   "source": [
    "np.einsum(\"ij,ij->ij\",lda_ws,1/np.array(lda_sk_ws))"
   ]
  },
  {
   "cell_type": "markdown",
   "id": "bc050efd-017b-488c-bfc6-d543d2c9438a",
   "metadata": {},
   "source": [
    "## Resulting ws are quite different, but somewhat similar relative to eachother"
   ]
  },
  {
   "cell_type": "code",
   "execution_count": 203,
   "id": "84edac25-ee87-4efa-8e7c-d90ceebf8941",
   "metadata": {},
   "outputs": [
    {
     "name": "stdout",
     "output_type": "stream",
     "text": [
      "0.5\n",
      "0.5\n",
      "0.5\n"
     ]
    },
    {
     "data": {
      "text/plain": [
       "array([ True,  True,  True,  True,  True,  True,  True,  True,  True,\n",
       "        True,  True,  True,  True,  True,  True,  True,  True,  True,\n",
       "        True,  True,  True,  True,  True,  True,  True,  True,  True,\n",
       "        True,  True,  True,  True,  True,  True,  True,  True,  True,\n",
       "        True,  True,  True,  True,  True,  True,  True,  True,  True,\n",
       "        True,  True,  True,  True,  True,  True,  True,  True,  True,\n",
       "        True,  True,  True,  True,  True,  True,  True,  True,  True,\n",
       "        True,  True,  True,  True,  True,  True,  True,  True,  True,\n",
       "        True,  True,  True,  True,  True,  True,  True,  True,  True,\n",
       "        True,  True,  True,  True,  True,  True,  True,  True,  True,\n",
       "        True,  True,  True,  True,  True,  True,  True,  True,  True,\n",
       "        True])"
      ]
     },
     "execution_count": 203,
     "metadata": {},
     "output_type": "execute_result"
    }
   ],
   "source": [
    "for X,y,w,sep in zip(trainXs, trainys, lda_ws, lda_seps):\n",
    "    print((lda_pred(X,w,sep) == y).describe().freq/100)\n",
    "lda_pred(trainXs[0],lda_ws[0],lda_seps[0])"
   ]
  },
  {
   "cell_type": "code",
   "execution_count": null,
   "id": "020b3fc8-260c-4dda-931c-1ea6691a6bc2",
   "metadata": {},
   "outputs": [],
   "source": [
    "logreg_sk = LogisticRegression(solver = \"sag\")\n",
    "logreg_sk.fit(X=trainX, y=trainy)\n",
    "logreg_sk.coef_"
   ]
  }
 ],
 "metadata": {
  "kernelspec": {
   "display_name": "Python 3",
   "language": "python",
   "name": "python3"
  },
  "language_info": {
   "codemirror_mode": {
    "name": "ipython",
    "version": 3
   },
   "file_extension": ".py",
   "mimetype": "text/x-python",
   "name": "python",
   "nbconvert_exporter": "python",
   "pygments_lexer": "ipython3",
   "version": "3.8.8"
  }
 },
 "nbformat": 4,
 "nbformat_minor": 5
}
