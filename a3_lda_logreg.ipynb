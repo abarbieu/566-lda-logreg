{
 "cells": [
  {
   "cell_type": "code",
   "execution_count": 22,
   "id": "95f5ed9d-6e5d-4a90-a561-91b1641ee913",
   "metadata": {},
   "outputs": [],
   "source": [
    "import pandas as pd\n",
    "import numpy as np\n",
    "import math\n",
    "import sklearn\n",
    "from sklearn.discriminant_analysis import LinearDiscriminantAnalysis\n",
    "from sklearn.linear_model import LogisticRegression\n",
    "from sklearn.model_selection import train_test_split\n",
    "from sklearn.preprocessing import StandardScaler\n",
    "pd.options.mode.chained_assignment = None"
   ]
  },
  {
   "cell_type": "code",
   "execution_count": 44,
   "id": "35ea360b-e6b5-4c40-8b3d-35de8dda7045",
   "metadata": {},
   "outputs": [],
   "source": [
    "iris = sklearn.datasets.load_iris(as_frame=True)\n",
    "irisX = iris.data\n",
    "irisy = iris.target\n",
    "setA = irisy <= 1\n",
    "setB = irisy > 0\n",
    "setC = irisy != 1\n",
    "\n",
    "irisAX = irisX[setA]\n",
    "irisAy = irisy[setA]\n",
    "irisBX = irisX[setB]\n",
    "irisBy = irisy[setB] - 1\n",
    "irisCX = irisX[setC]\n",
    "irisCy = irisy[setC]/2"
   ]
  },
  {
   "cell_type": "code",
   "execution_count": 58,
   "id": "d09f8404-73cf-42aa-a38e-b41eb774fa5c",
   "metadata": {},
   "outputs": [],
   "source": [
    "trainX, testX, trainy, testy = train_test_split(\n",
    "    irisAX,\n",
    "    irisAy,\n",
    "    test_size=0.2)\n",
    "\n",
    "ps = pd.DataFrame()\n",
    "ps[\"correct\"] = testy"
   ]
  },
  {
   "cell_type": "code",
   "execution_count": 59,
   "id": "71842277-f620-4045-84db-9f6befddfc33",
   "metadata": {},
   "outputs": [
    {
     "data": {
      "text/plain": [
       "array([1, 0, 1, 0, 0, 1, 1, 0, 1, 1, 0, 0, 1, 0, 0, 0, 1, 0, 0, 1])"
      ]
     },
     "execution_count": 59,
     "metadata": {},
     "output_type": "execute_result"
    }
   ],
   "source": [
    "lda_sk.predict(X=testX)"
   ]
  },
  {
   "cell_type": "code",
   "execution_count": 60,
   "id": "138240ec-5cb4-4c20-a280-214232883739",
   "metadata": {},
   "outputs": [
    {
     "data": {
      "text/plain": [
       "(1.0, 0.55)"
      ]
     },
     "execution_count": 60,
     "metadata": {},
     "output_type": "execute_result"
    }
   ],
   "source": [
    "lda_sk = LinearDiscriminantAnalysis(solver=\"lsqr\")\n",
    "lda_sk.fit(X=trainX, y=trainy)\n",
    "ps[\"lda_sk\"] = lda_sk.predict(X=testX)\n",
    "ps[ps[\"correct\"] == ps[\"lda_sk\"]].shape[0] / ps.shape[0], ps[ps[\"correct\"] == 0].shape[0] / ps.shape[0]"
   ]
  },
  {
   "cell_type": "code",
   "execution_count": 62,
   "id": "46124046-bad6-4f36-9d2e-5836de993569",
   "metadata": {},
   "outputs": [
    {
     "name": "stderr",
     "output_type": "stream",
     "text": [
      "C:\\Users\\barbi\\anaconda3\\lib\\site-packages\\sklearn\\linear_model\\_sag.py:328: ConvergenceWarning: The max_iter was reached which means the coef_ did not converge\n",
      "  warnings.warn(\"The max_iter was reached which means \"\n"
     ]
    },
    {
     "data": {
      "text/plain": [
       "1.0"
      ]
     },
     "execution_count": 62,
     "metadata": {},
     "output_type": "execute_result"
    }
   ],
   "source": [
    "logreg_sk = LogisticRegression(solver = \"sag\")\n",
    "logreg_sk.fit(X=trainX, y=trainy)\n",
    "ps[\"logreg_sk\"] = logreg_sk.predict(X=testX)\n",
    "ps[ps[\"correct\"] == ps[\"logreg_sk\"]].shape[0] / ps.shape[0]"
   ]
  },
  {
   "cell_type": "code",
   "execution_count": 5,
   "id": "f3612377-39ac-43e1-93c7-8b86e99fc77a",
   "metadata": {},
   "outputs": [],
   "source": [
    "# creates a random unit vector of ndim dimensions\n",
    "def ruvect(ndim):\n",
    "    out=[]\n",
    "    for i in range(ndim):\n",
    "        out.append(np.random.randint(-100,100))\n",
    "    out = np.array(out)\n",
    "    out = out/np.linalg.norm(out)\n",
    "    return out"
   ]
  },
  {
   "cell_type": "code",
   "execution_count": 6,
   "id": "4b1d543b-38d5-4949-8244-4a63308239ab",
   "metadata": {},
   "outputs": [],
   "source": [
    "# finds centroid of list of points in np array of nxd dimensions, returns point of d dims\n",
    "def calc_centroid(cluster):\n",
    "    return np.mean(cluster, axis=0)"
   ]
  },
  {
   "cell_type": "code",
   "execution_count": 7,
   "id": "aa55ff0c-da1d-48bb-87de-ee42b8aaa7bb",
   "metadata": {},
   "outputs": [],
   "source": [
    "# X and y expected to be numpy arrays where y only contains 0's and 1's\n",
    "def lda(X,y):\n",
    "    # 1 is for intercept L(w)=w0 + w1x1 + w2x2 +...+ wdxd\n",
    "    w = ruvect(X.shape[1] + 1) \n",
    "    \n",
    "    # adds a column of 1's to front (for intercept)\n",
    "    X = np.append(np.array([[1] * X.shape[0]]).T, X, axis=1)\n",
    "    X0 = X[y==0]\n",
    "    X1 = X[y==1]\n",
    "    \n",
    "    # Centroids of data (d dimensional)\n",
    "    c0 = calc_centroid(X0)\n",
    "    c1 = calc_centroid(X1)\n",
    "    \n",
    "    # A is the projection offsets of x onto w\n",
    "    A0 = np.matmul(X0, w.T)\n",
    "    A1 = np.matmul(X1, w.T)\n",
    "    \n",
    "    # Centroids projected onto w (1d)\n",
    "    m0 = np.matmul(c0,w.T)\n",
    "    m1 = np.matmul(c1,w.T)\n",
    "    \n",
    "    # scatter squared\n",
    "    s02 = np.sum((A0-m0)**2)\n",
    "    s12 = np.sum((A1-m1)**2)\n",
    "    \n",
    "    S0 = np.matmul((X0-c0), (X0-c0).T)\n",
    "    S0 = np.matmul((X1-c1), (X1-c1).T)\n",
    "    \n",
    "#     return np.sum(np.matmul(cdif0, cdif0.T)\n",
    "\n",
    "lda(trainX, trainY)"
   ]
  },
  {
   "cell_type": "code",
   "execution_count": 8,
   "id": "f864873c-3973-4f67-812b-67f2084461e2",
   "metadata": {},
   "outputs": [],
   "source": [
    "def lda_pred(lda,X):\n",
    "    pass"
   ]
  },
  {
   "cell_type": "code",
   "execution_count": 9,
   "id": "94fbb580-155c-4f56-b990-4220980431f5",
   "metadata": {},
   "outputs": [
    {
     "data": {
      "text/plain": [
       "array([ True, False, False, ..., False, False, False])"
      ]
     },
     "execution_count": 9,
     "metadata": {},
     "output_type": "execute_result"
    }
   ],
   "source": [
    "trainY == 1"
   ]
  },
  {
   "cell_type": "code",
   "execution_count": 10,
   "id": "87670310-31c9-4a53-a943-6db87965a429",
   "metadata": {},
   "outputs": [],
   "source": [
    "# space = np.linspace(0,10,200)\n",
    "# w = ruvect(5)\n",
    "# X = np.array([ruvect(4) for i in range(10)])\n",
    "# X = np.append(np.array([[1] * X.shape[0]]).T, X, axis=1)\n",
    "# np.matmul(X,w.T)"
   ]
  },
  {
   "cell_type": "code",
   "execution_count": 19,
   "id": "218b376d-7f53-4d17-930e-25782ba0103b",
   "metadata": {},
   "outputs": [
    {
     "ename": "ValueError",
     "evalue": "matmul: Input operand 0 does not have enough dimensions (has 0, gufunc core with signature (n?,k),(k,m?)->(n?,m?) requires 1)",
     "output_type": "error",
     "traceback": [
      "\u001b[1;31m---------------------------------------------------------------------------\u001b[0m",
      "\u001b[1;31mValueError\u001b[0m                                Traceback (most recent call last)",
      "\u001b[1;32m<ipython-input-19-e5641fa531e4>\u001b[0m in \u001b[0;36m<module>\u001b[1;34m\u001b[0m\n\u001b[0;32m     10\u001b[0m \u001b[1;31m# w.T * sumdif * w\u001b[0m\u001b[1;33m\u001b[0m\u001b[1;33m\u001b[0m\u001b[1;33m\u001b[0m\u001b[0m\n\u001b[0;32m     11\u001b[0m \u001b[1;31m# np.matmul(sumdif, w.T)\u001b[0m\u001b[1;33m\u001b[0m\u001b[1;33m\u001b[0m\u001b[1;33m\u001b[0m\u001b[0m\n\u001b[1;32m---> 12\u001b[1;33m \u001b[0mnp\u001b[0m\u001b[1;33m.\u001b[0m\u001b[0mmatmul\u001b[0m\u001b[1;33m(\u001b[0m\u001b[0msumdif\u001b[0m\u001b[1;33m,\u001b[0m \u001b[0mw\u001b[0m\u001b[1;33m.\u001b[0m\u001b[0mT\u001b[0m\u001b[1;33m)\u001b[0m \u001b[1;33m*\u001b[0m \u001b[0mw\u001b[0m\u001b[1;33m,\u001b[0m \u001b[0mnp\u001b[0m\u001b[1;33m.\u001b[0m\u001b[0msum\u001b[0m\u001b[1;33m(\u001b[0m\u001b[1;33m(\u001b[0m\u001b[0ma0\u001b[0m\u001b[1;33m-\u001b[0m\u001b[0mm0\u001b[0m\u001b[1;33m)\u001b[0m\u001b[1;33m**\u001b[0m\u001b[1;36m2\u001b[0m\u001b[1;33m)\u001b[0m\u001b[1;33m\u001b[0m\u001b[1;33m\u001b[0m\u001b[0m\n\u001b[0m\u001b[0;32m     13\u001b[0m \u001b[1;33m\u001b[0m\u001b[0m\n\u001b[0;32m     14\u001b[0m \u001b[1;31m# S,s02\u001b[0m\u001b[1;33m\u001b[0m\u001b[1;33m\u001b[0m\u001b[1;33m\u001b[0m\u001b[0m\n",
      "\u001b[1;31mValueError\u001b[0m: matmul: Input operand 0 does not have enough dimensions (has 0, gufunc core with signature (n?,k),(k,m?)->(n?,m?) requires 1)"
     ]
    }
   ],
   "source": [
    "x = np.array([ruvect(3)*100 for i in range(10)])\n",
    "x0 = x[0]\n",
    "c0 = calc_centroid(x)\n",
    "w = ruvect(3)\n",
    "m0 = np.matmul(c0,w.T)\n",
    "a0 = np.matmul(x,w.T)\n",
    "s02 = np.sum((a0-m0)**2)\n",
    "\n",
    "sumdif = np.einsum(\"ij,ji->\",(x-c0),(x-c0).T)\n",
    "# w.T * sumdif * w\n",
    "# np.matmul(sumdif, w.T)\n",
    "np.matmul(sumdif, w.T) * w, np.sum((a0-m0)**2)\n",
    "\n",
    "# S,s02"
   ]
  },
  {
   "cell_type": "code",
   "execution_count": 12,
   "id": "119a442c-3a63-4d80-8f5d-c0a37555a4c9",
   "metadata": {},
   "outputs": [
    {
     "data": {
      "text/plain": [
       "32615.437473238242"
      ]
     },
     "execution_count": 12,
     "metadata": {},
     "output_type": "execute_result"
    }
   ],
   "source": []
  },
  {
   "cell_type": "code",
   "execution_count": 13,
   "id": "f59d334f-4a1b-4dda-9a71-83fbbd6771c6",
   "metadata": {},
   "outputs": [
    {
     "data": {
      "text/plain": [
       "11665.210909637928"
      ]
     },
     "execution_count": 13,
     "metadata": {},
     "output_type": "execute_result"
    }
   ],
   "source": []
  },
  {
   "cell_type": "code",
   "execution_count": 14,
   "id": "e330385f-5e94-47b1-acda-948061235e7a",
   "metadata": {},
   "outputs": [
    {
     "data": {
      "text/plain": [
       "array([14, 77])"
      ]
     },
     "execution_count": 14,
     "metadata": {},
     "output_type": "execute_result"
    }
   ],
   "source": [
    "A = np.array([[1,-2,3],[4,5,-6]])\n",
    "np.einsum(\"ij,ji->i\",A,A.T)"
   ]
  }
 ],
 "metadata": {
  "kernelspec": {
   "display_name": "Python 3",
   "language": "python",
   "name": "python3"
  },
  "language_info": {
   "codemirror_mode": {
    "name": "ipython",
    "version": 3
   },
   "file_extension": ".py",
   "mimetype": "text/x-python",
   "name": "python",
   "nbconvert_exporter": "python",
   "pygments_lexer": "ipython3",
   "version": "3.8.8"
  }
 },
 "nbformat": 4,
 "nbformat_minor": 5
}
