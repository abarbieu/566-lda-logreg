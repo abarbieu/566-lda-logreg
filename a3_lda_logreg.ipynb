{
 "cells": [
  {
   "cell_type": "code",
   "execution_count": 1,
   "id": "95f5ed9d-6e5d-4a90-a561-91b1641ee913",
   "metadata": {},
   "outputs": [],
   "source": [
    "import pandas as pd\n",
    "import numpy as np\n",
    "import math\n",
    "import matplotlib.pyplot as plt\n",
    "import sklearn.datasets\n",
    "import altair as alt\n",
    "from sklearn.discriminant_analysis import LinearDiscriminantAnalysis\n",
    "from sklearn.linear_model import LogisticRegression\n",
    "from sklearn.model_selection import train_test_split\n",
    "from sklearn.preprocessing import StandardScaler\n",
    "from sklearn.metrics import confusion_matrix\n",
    "pd.options.mode.chained_assignment = None"
   ]
  },
  {
   "cell_type": "code",
   "execution_count": 2,
   "id": "efe2d9a7-b722-429f-836e-69f9a2cb0240",
   "metadata": {
    "tags": []
   },
   "outputs": [],
   "source": [
    "iris = sklearn.datasets.load_iris(as_frame=True)\n",
    "irisX = iris.data\n",
    "scaler = StandardScaler()\n",
    "irisX = scaler.fit_transform(X=irisX)\n",
    "irisy = iris.target\n",
    "setA = irisy <= 1\n",
    "setB = irisy > 0\n",
    "setC = irisy != 1\n",
    "\n",
    "irisAX = irisX[setA]\n",
    "irisAy = irisy[setA]\n",
    "irisBX = irisX[setB]\n",
    "irisBy = irisy[setB] - 1\n",
    "irisCX = irisX[setC]\n",
    "irisCy = irisy[setC]/2\n",
    "\n",
    "trainXs = [irisAX,irisBX,irisCX]\n",
    "trainys = [irisAy,irisBy,irisCy]"
   ]
  },
  {
   "cell_type": "code",
   "execution_count": 3,
   "id": "bf57375b-159c-4f61-ab83-0a822dc8b4d6",
   "metadata": {},
   "outputs": [],
   "source": [
    "trainX, testX, trainy, testy = train_test_split(\n",
    "    irisAX,\n",
    "    irisAy,\n",
    "    test_size=0.2)"
   ]
  },
  {
   "cell_type": "code",
   "execution_count": 4,
   "id": "f3612377-39ac-43e1-93c7-8b86e99fc77a",
   "metadata": {},
   "outputs": [],
   "source": [
    "# creates a random unit vector of ndim dimensions\n",
    "def ruvect(ndim):\n",
    "    out=[]\n",
    "    for i in range(ndim):\n",
    "        out.append(np.random.randint(-100,100))\n",
    "    out = np.array(out)\n",
    "    out = out/np.linalg.norm(out)\n",
    "    return out"
   ]
  },
  {
   "cell_type": "code",
   "execution_count": 5,
   "id": "4b1d543b-38d5-4949-8244-4a63308239ab",
   "metadata": {},
   "outputs": [],
   "source": [
    "# finds centroid of list of points in np array of nxd dimensions, returns point of d dims\n",
    "def calc_centroid(cluster):\n",
    "    return np.mean(cluster, axis=0)"
   ]
  },
  {
   "cell_type": "code",
   "execution_count": 6,
   "id": "aa55ff0c-da1d-48bb-87de-ee42b8aaa7bb",
   "metadata": {},
   "outputs": [],
   "source": [
    "# X and y expected to be numpy arrays where y only contains 0's and 1's\n",
    "def lda(X,y):\n",
    "    # 1 is for intercept L(w) = w0 + w1x1 + w2x2 +...+ wdxd\n",
    "    w = ruvect(X.shape[1]) \n",
    "    \n",
    "    # adds a column of 1's to front (for intercept) -- unecessary as position of w doesnt matter\n",
    "#     X = np.append(np.array([[1] * X.shape[0]]).T, X, axis=1)\n",
    "    X0 = X[y==0]\n",
    "    X1 = X[y==1]\n",
    "    \n",
    "    # Centroids of data (d dimensional)\n",
    "    mu0 = calc_centroid(X0)\n",
    "    mu1 = calc_centroid(X1)\n",
    "    \n",
    "    B = np.einsum(\"i,j->ij\", mu0-mu1, mu0-mu1)\n",
    "    S0 = np.einsum(\"Nd,Ni->di\", X0-mu0, X0-mu0)\n",
    "    S1 = np.einsum(\"Nd,Ni->di\", X1-mu1, X1-mu1)\n",
    "    S=S0+S1\n",
    "    eta = 0.1\n",
    "    djw_norm = 100\n",
    "    iters = 0\n",
    "    while djw_norm > 0.01 and iters<500:\n",
    "        # Derivative of J w\n",
    "        djnum1 = 2*np.matmul(B,w)*(np.matmul(np.matmul(w,S),w))\n",
    "        djnum2 = 2*np.matmul(S,w)*(np.matmul(np.matmul(w,B),w))\n",
    "        djdem = np.matmul(np.matmul(w,S),w)**2\n",
    "        \n",
    "        djw = (djnum1-djnum2)/djdem\n",
    "        w = w + eta*djw\n",
    "        djw_norm = np.linalg.norm(djw)\n",
    "#         print(djw_norm, w)\n",
    "        iters+=1\n",
    "    \n",
    "    return w,(np.dot(w,mu0)+np.dot(w,mu1))/2\n",
    "\n",
    "def lda_pred(w,sep,X):\n",
    "    projs=np.matmul(w,X.T)\n",
    "    return projs>sep"
   ]
  },
  {
   "cell_type": "code",
   "execution_count": 7,
   "id": "7d766dbf-4899-4864-8908-dc63022652da",
   "metadata": {},
   "outputs": [],
   "source": [
    "def logreg(X,y):\n",
    "    w = ruvect(X.shape[1]+1)\n",
    "    X = np.append(np.array([[1] * X.shape[0]]).T, X, axis=1) # add intercept col\n",
    "\n",
    "    eta=0.1\n",
    "    errmag = 100\n",
    "    iters=0\n",
    "    while errmag > 0.1 and iters<100:\n",
    "        Xw = np.einsum(\"Nd,d->N\",X,w)\n",
    "        phat = np.divide(1,1+np.exp(-Xw))\n",
    "        derror = np.einsum(\"N,Nd->d\",y-phat,X)\n",
    "        \n",
    "        w += eta*derror\n",
    "        errmag = np.linalg.norm(derror)\n",
    "        iters+=1\n",
    "    return w\n",
    "\n",
    "def logreg_pred(w,X):\n",
    "    X = np.append(np.array([[1] * X.shape[0]]).T, X, axis=1) # add intercept column\n",
    "    return 1.0/(1-np.exp(np.einsum(\"Nd,d->N\",X,w))) < 0.5"
   ]
  },
  {
   "cell_type": "markdown",
   "id": "2def20cc-6567-49d8-b6b9-36319e30d36a",
   "metadata": {},
   "source": [
    "# Comparison"
   ]
  },
  {
   "cell_type": "code",
   "execution_count": 8,
   "id": "15aab060-566d-4ecd-ab21-df5046e4e7c0",
   "metadata": {},
   "outputs": [
    {
     "data": {
      "text/plain": [
       "(array([[ -2.57087266,  -7.9891543 ,  39.07707289,  23.91029053],\n",
       "        [ -2.9949196 ,  -2.47287142,  12.51354182,   9.60161648],\n",
       "        [-13.34069387,  -5.3282304 ,  65.56182743,  28.49466302]]),\n",
       " array([[-0.07184717, -0.22358408,  1.09572437,  0.67050652],\n",
       "        [ 0.16888733,  0.16532827, -0.72757872, -0.65261596],\n",
       "        [-0.38666201, -0.15474451,  1.89890697,  0.82528012]]))"
      ]
     },
     "execution_count": 8,
     "metadata": {},
     "output_type": "execute_result"
    }
   ],
   "source": [
    "lda_ws=[]\n",
    "lda_seps=[]\n",
    "\n",
    "lda_sk = LinearDiscriminantAnalysis(solver=\"lsqr\")\n",
    "lda_sk_ws=[]\n",
    "lda_sks=[]\n",
    "for X,y in zip(trainXs,trainys):\n",
    "    w,sep = lda(X,y)\n",
    "    lda_ws.append(w)\n",
    "    lda_seps.append(sep)\n",
    "    \n",
    "    lda_sk.fit(X,y)\n",
    "    lda_sk_ws.append(lda_sk.coef_)\n",
    "    lda_sks.append(lda_sk)\n",
    "lda_ws=np.asarray(lda_ws)\n",
    "lda_sk_ws = np.asarray(lda_sk_ws)[:,0]\n",
    "lda_sk_ws, lda_ws"
   ]
  },
  {
   "cell_type": "code",
   "execution_count": 9,
   "id": "2b8a6c8c-2e2e-4754-a5e9-22c9bcee3ee1",
   "metadata": {},
   "outputs": [
    {
     "name": "stdout",
     "output_type": "stream",
     "text": [
      "0.9999999281177452\n",
      "0.9970188270330064\n",
      "0.999999972674772\n"
     ]
    }
   ],
   "source": [
    "for w,wsk in zip(lda_ws, lda_sk_ws):\n",
    "    print(abs(np.dot(w,wsk)/(np.linalg.norm(w)*np.linalg.norm(wsk))))"
   ]
  },
  {
   "cell_type": "markdown",
   "id": "bc050efd-017b-488c-bfc6-d543d2c9438a",
   "metadata": {},
   "source": [
    "## Cosine similarity between sklearn's LDA w and my LDA w is pretty high for each classification problem of Iris.\n",
    "\n",
    "## Depending on the initial w, my LDA can sometimes produce poor results for IrisB, below is a visualization of the separation made by my LDA, you can see that there is some overalap"
   ]
  },
  {
   "cell_type": "code",
   "execution_count": 10,
   "id": "f8c3869b-6665-4e9a-bbf2-d9df8aa2bee8",
   "metadata": {},
   "outputs": [
    {
     "data": {
      "text/plain": [
       "<AxesSubplot:xlabel='pos', ylabel='class'>"
      ]
     },
     "execution_count": 10,
     "metadata": {},
     "output_type": "execute_result"
    },
    {
     "data": {
      "image/png": "[encoded data removed]",
      "text/plain": [
       "<Figure size 432x288 with 1 Axes>"
      ]
     },
     "metadata": {
      "needs_background": "light"
     },
     "output_type": "display_data"
    },
    {
     "data": {
      "image/png": "[encoded data removed]",
      "text/plain": [
       "<Figure size 432x288 with 1 Axes>"
      ]
     },
     "metadata": {
      "needs_background": "light"
     },
     "output_type": "display_data"
    }
   ],
   "source": [
    "w=lda_ws[1]\n",
    "projs=np.matmul(w,irisBX.T)\n",
    "pd.Series(projs).plot.density()\n",
    "pd.DataFrame(data={\"pos\":projs,\"class\":irisBy}).plot.scatter(x=\"pos\",y=\"class\")"
   ]
  },
  {
   "cell_type": "code",
   "execution_count": 11,
   "id": "5faed35e-0d81-46df-966b-6cd7a23b08fa",
   "metadata": {},
   "outputs": [
    {
     "data": {
      "text/plain": [
       "<AxesSubplot:xlabel='pos', ylabel='class'>"
      ]
     },
     "execution_count": 11,
     "metadata": {},
     "output_type": "execute_result"
    },
    {
     "data": {
      "image/png": "[encoded data removed]",
      "text/plain": [
       "<Figure size 432x288 with 1 Axes>"
      ]
     },
     "metadata": {
      "needs_background": "light"
     },
     "output_type": "display_data"
    },
    {
     "data": {
      "image/png": "[encoded data removed]",
      "text/plain": [
       "<Figure size 432x288 with 1 Axes>"
      ]
     },
     "metadata": {
      "needs_background": "light"
     },
     "output_type": "display_data"
    }
   ],
   "source": [
    "w=lda_sk_ws[1]\n",
    "projs=np.matmul(w,irisBX.T)\n",
    "pd.Series(projs).plot.density()\n",
    "pd.DataFrame(data={\"pos\":projs,\"class\":irisBy}).plot.scatter(x=\"pos\",y=\"class\")"
   ]
  },
  {
   "cell_type": "code",
   "execution_count": 20,
   "id": "a7a4a501-0a5f-473c-a942-5d09f8a0134d",
   "metadata": {},
   "outputs": [
    {
     "data": {
      "text/html": [
       "<div>\n",
       "<style scoped>\n",
       "    .dataframe tbody tr th:only-of-type {\n",
       "        vertical-align: middle;\n",
       "    }\n",
       "\n",
       "    .dataframe tbody tr th {\n",
       "        vertical-align: top;\n",
       "    }\n",
       "\n",
       "    .dataframe thead th {\n",
       "        text-align: right;\n",
       "    }\n",
       "</style>\n",
       "<table border=\"1\" class=\"dataframe\">\n",
       "  <thead>\n",
       "    <tr style=\"text-align: right;\">\n",
       "      <th></th>\n",
       "      <th>My LDA</th>\n",
       "      <th>sklearn LDA</th>\n",
       "    </tr>\n",
       "  </thead>\n",
       "  <tbody>\n",
       "    <tr>\n",
       "      <th>0</th>\n",
       "      <td>[[50, 0], [0, 50]]</td>\n",
       "      <td>[[50, 0], [1, 49]]</td>\n",
       "    </tr>\n",
       "    <tr>\n",
       "      <th>1</th>\n",
       "      <td>[[2, 48], [49, 1]]</td>\n",
       "      <td>[[1, 49], [0, 50]]</td>\n",
       "    </tr>\n",
       "    <tr>\n",
       "      <th>2</th>\n",
       "      <td>[[50, 0], [0, 50]]</td>\n",
       "      <td>[[50, 0], [0, 50]]</td>\n",
       "    </tr>\n",
       "  </tbody>\n",
       "</table>\n",
       "</div>"
      ],
      "text/plain": [
       "               My LDA         sklearn LDA\n",
       "0  [[50, 0], [0, 50]]  [[50, 0], [1, 49]]\n",
       "1  [[2, 48], [49, 1]]  [[1, 49], [0, 50]]\n",
       "2  [[50, 0], [0, 50]]  [[50, 0], [0, 50]]"
      ]
     },
     "execution_count": 20,
     "metadata": {},
     "output_type": "execute_result"
    }
   ],
   "source": [
    "output=[]\n",
    "output_sk=[]\n",
    "for i in range(3):\n",
    "    y = trainys[i]\n",
    "    X = trainXs[i]\n",
    "    pred_sk = lda_sks[i].predict(X)\n",
    "    pred = lda_pred(lda_ws[i],lda_seps[i],X)\n",
    "    output.append(confusion_matrix(y,pred))\n",
    "    output_sk.append(confusion_matrix(y,pred_sk))\n",
    "pd.DataFrame(data={\"My LDA\":output,\"sklearn LDA\": output_sk})"
   ]
  },
  {
   "cell_type": "code",
   "execution_count": 13,
   "id": "bd5ead8c-5f6f-4011-95f2-14a05e67878e",
   "metadata": {},
   "outputs": [
    {
     "data": {
      "text/plain": [
       "array([1., 1., 1., 1., 1., 1., 1., 1., 1., 1., 1., 1., 1., 1., 1., 1., 1.,\n",
       "       1., 1., 1., 1., 1., 1., 1., 1., 1., 1., 1., 1., 1., 1., 1., 1., 1.,\n",
       "       1., 1., 1., 1., 1., 1., 1., 1., 1., 1., 1., 1., 1., 1., 0., 1., 1.,\n",
       "       1., 1., 1., 1., 1., 1., 1., 1., 1., 1., 1., 1., 1., 1., 1., 1., 1.,\n",
       "       1., 1., 1., 1., 1., 1., 1., 1., 1., 1., 1., 1., 1., 1., 1., 1., 1.,\n",
       "       1., 1., 1., 1., 1., 1., 1., 1., 1., 1., 1., 1., 1., 1., 1.])"
      ]
     },
     "execution_count": 13,
     "metadata": {},
     "output_type": "execute_result"
    }
   ],
   "source": [
    "lda_sks[1].predict(trainXs[1])"
   ]
  },
  {
   "cell_type": "markdown",
   "id": "955b4815-220f-4d1a-befc-857cacdb4e73",
   "metadata": {},
   "source": [
    "## For the lsqe solver, sklearn's implementation does worse than mine for irisB, so the disimilarity between w's is favoring my implementation "
   ]
  },
  {
   "cell_type": "code",
   "execution_count": 14,
   "id": "68707b71-8540-4220-bc53-493b086f2882",
   "metadata": {},
   "outputs": [
    {
     "data": {
      "text/plain": [
       "(array([[ 2.40419012,  1.04748083, -1.23549372,  1.74059586,  1.593547  ],\n",
       "        [-3.80087392,  0.13982863, -0.51454121,  2.47982385,  3.1404283 ],\n",
       "        [ 0.81588832,  0.89164251, -0.72300173,  1.42585118,  1.45394647]]),\n",
       " array([[ 3.05347347,  2.0430481 , -4.35780648,  4.07280257,  4.59802911],\n",
       "        [-9.02349849, -0.97198497, -1.32041393,  7.04195304,  7.1912734 ],\n",
       "        [-1.25385596,  4.96431303, -3.58168697,  5.82443444,  6.45860655]]))"
      ]
     },
     "execution_count": 14,
     "metadata": {},
     "output_type": "execute_result"
    }
   ],
   "source": [
    "logreg_ws=[]\n",
    "\n",
    "logreg_sk_ws=[]\n",
    "logreg_sks=[]\n",
    "for X,y in zip(trainXs,trainys):\n",
    "    w = logreg(X,y)\n",
    "    logreg_ws.append(w)\n",
    "    \n",
    "    logreg_sk = LogisticRegression()\n",
    "    logreg_sk.fit(X,y)\n",
    "    logreg_sks.append(logreg_sk)\n",
    "    logreg_sk_ws.append([np.append(logreg_sk.intercept_,logreg_sk.coef_)])\n",
    "    \n",
    "    \n",
    "logreg_ws=np.asarray(logreg_ws)\n",
    "logreg_sk_ws = np.asarray(logreg_sk_ws)[:,0]\n",
    "logreg_sk_ws, logreg_ws"
   ]
  },
  {
   "cell_type": "code",
   "execution_count": 15,
   "id": "ca5c795a-0a9c-49b8-b960-d1e76d61b320",
   "metadata": {},
   "outputs": [
    {
     "name": "stdout",
     "output_type": "stream",
     "text": [
      "0.9348181650719143\n",
      "0.9918891166841765\n",
      "0.8933818964004828\n"
     ]
    }
   ],
   "source": [
    "for w,wsk in zip(logreg_ws, logreg_sk_ws):\n",
    "    print(abs(np.dot(w,wsk)/(np.linalg.norm(w)*np.linalg.norm(wsk))))"
   ]
  },
  {
   "cell_type": "markdown",
   "id": "dc8dd208-cc8f-49ee-b832-0887551d10af",
   "metadata": {},
   "source": [
    "## Cosine similarity is much 'better' for logistic regression, classification is more accurate across all data subsets, and implementations agree"
   ]
  },
  {
   "cell_type": "code",
   "execution_count": 19,
   "id": "37bcceda-e910-418d-b127-0fac3884c0e0",
   "metadata": {},
   "outputs": [
    {
     "data": {
      "text/html": [
       "<div>\n",
       "<style scoped>\n",
       "    .dataframe tbody tr th:only-of-type {\n",
       "        vertical-align: middle;\n",
       "    }\n",
       "\n",
       "    .dataframe tbody tr th {\n",
       "        vertical-align: top;\n",
       "    }\n",
       "\n",
       "    .dataframe thead th {\n",
       "        text-align: right;\n",
       "    }\n",
       "</style>\n",
       "<table border=\"1\" class=\"dataframe\">\n",
       "  <thead>\n",
       "    <tr style=\"text-align: right;\">\n",
       "      <th></th>\n",
       "      <th>My logreg</th>\n",
       "      <th>sklearn logreg</th>\n",
       "    </tr>\n",
       "  </thead>\n",
       "  <tbody>\n",
       "    <tr>\n",
       "      <th>0</th>\n",
       "      <td>[[50, 0], [0, 50]]</td>\n",
       "      <td>[[50, 0], [0, 50]]</td>\n",
       "    </tr>\n",
       "    <tr>\n",
       "      <th>1</th>\n",
       "      <td>[[48, 2], [1, 49]]</td>\n",
       "      <td>[[48, 2], [2, 48]]</td>\n",
       "    </tr>\n",
       "    <tr>\n",
       "      <th>2</th>\n",
       "      <td>[[50, 0], [0, 50]]</td>\n",
       "      <td>[[50, 0], [0, 50]]</td>\n",
       "    </tr>\n",
       "  </tbody>\n",
       "</table>\n",
       "</div>"
      ],
      "text/plain": [
       "            My logreg      sklearn logreg\n",
       "0  [[50, 0], [0, 50]]  [[50, 0], [0, 50]]\n",
       "1  [[48, 2], [1, 49]]  [[48, 2], [2, 48]]\n",
       "2  [[50, 0], [0, 50]]  [[50, 0], [0, 50]]"
      ]
     },
     "execution_count": 19,
     "metadata": {},
     "output_type": "execute_result"
    }
   ],
   "source": [
    "output=[]\n",
    "output_sk=[]\n",
    "for i in range(3):\n",
    "    y = trainys[i]\n",
    "    X = trainXs[i]\n",
    "    pred_sk = logreg_sks[i].predict(X)\n",
    "    pred = logreg_pred(logreg_ws[i],X)\n",
    "    output.append(confusion_matrix(y,pred))\n",
    "    output_sk.append(confusion_matrix(y,pred_sk))\n",
    "pd.DataFrame(data={\"My logreg\":output,\"sklearn logreg\": output_sk})"
   ]
  }
 ],
 "metadata": {
  "kernelspec": {
   "display_name": "Python 3",
   "language": "python",
   "name": "python3"
  },
  "language_info": {
   "codemirror_mode": {
    "name": "ipython",
    "version": 3
   },
   "file_extension": ".py",
   "mimetype": "text/x-python",
   "name": "python",
   "nbconvert_exporter": "python",
   "pygments_lexer": "ipython3",
   "version": "3.8.8"
  }
 },
 "nbformat": 4,
 "nbformat_minor": 5
}
