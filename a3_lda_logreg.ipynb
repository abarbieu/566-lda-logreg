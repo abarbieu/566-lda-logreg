{
 "cells": [
  {
   "cell_type": "code",
   "execution_count": 1,
   "id": "95f5ed9d-6e5d-4a90-a561-91b1641ee913",
   "metadata": {},
   "outputs": [],
   "source": [
    "import pandas as pd\n",
    "import numpy as np\n",
    "import math\n",
    "import matplotlib.pyplot as plt\n",
    "import sklearn.datasets\n",
    "from sklearn.discriminant_analysis import LinearDiscriminantAnalysis\n",
    "from sklearn.linear_model import LogisticRegression\n",
    "from sklearn.model_selection import train_test_split\n",
    "from sklearn.preprocessing import StandardScaler\n",
    "pd.options.mode.chained_assignment = None"
   ]
  },
  {
   "cell_type": "code",
   "execution_count": 2,
   "id": "35ea360b-e6b5-4c40-8b3d-35de8dda7045",
   "metadata": {},
   "outputs": [],
   "source": [
    "iris = sklearn.datasets.load_iris(as_frame=True)\n",
    "irisX = iris.data\n",
    "irisy = iris.target\n",
    "setA = irisy <= 1\n",
    "setB = irisy > 0\n",
    "setC = irisy != 1\n",
    "\n",
    "irisAX = irisX[setA]\n",
    "irisAy = irisy[setA]\n",
    "irisBX = irisX[setB]\n",
    "irisBy = irisy[setB] - 1\n",
    "irisCX = irisX[setC]\n",
    "irisCy = irisy[setC]/2"
   ]
  },
  {
   "cell_type": "code",
   "execution_count": 3,
   "id": "d09f8404-73cf-42aa-a38e-b41eb774fa5c",
   "metadata": {},
   "outputs": [],
   "source": [
    "trainX, testX, trainy, testy = train_test_split(\n",
    "    irisAX,\n",
    "    irisAy,\n",
    "    test_size=0.2)\n",
    "\n",
    "ps = pd.DataFrame()\n",
    "ps[\"correct\"] = testy"
   ]
  },
  {
   "cell_type": "code",
   "execution_count": 4,
   "id": "138240ec-5cb4-4c20-a280-214232883739",
   "metadata": {},
   "outputs": [
    {
     "data": {
      "text/plain": [
       "(1.0, 0.55)"
      ]
     },
     "execution_count": 4,
     "metadata": {},
     "output_type": "execute_result"
    }
   ],
   "source": [
    "lda_sk = LinearDiscriminantAnalysis(solver=\"lsqr\")\n",
    "lda_sk.fit(X=trainX, y=trainy)\n",
    "ps[\"lda_sk\"] = lda_sk.predict(X=testX)\n",
    "ps[ps[\"correct\"] == ps[\"lda_sk\"]].shape[0] / ps.shape[0], ps[ps[\"correct\"] == 0].shape[0] / ps.shape[0]"
   ]
  },
  {
   "cell_type": "code",
   "execution_count": 5,
   "id": "46124046-bad6-4f36-9d2e-5836de993569",
   "metadata": {},
   "outputs": [
    {
     "name": "stderr",
     "output_type": "stream",
     "text": [
      "C:\\Users\\barbi\\anaconda3\\lib\\site-packages\\sklearn\\linear_model\\_sag.py:328: ConvergenceWarning: The max_iter was reached which means the coef_ did not converge\n",
      "  warnings.warn(\"The max_iter was reached which means \"\n"
     ]
    },
    {
     "data": {
      "text/plain": [
       "1.0"
      ]
     },
     "execution_count": 5,
     "metadata": {},
     "output_type": "execute_result"
    }
   ],
   "source": [
    "logreg_sk = LogisticRegression(solver = \"sag\")\n",
    "logreg_sk.fit(X=trainX, y=trainy)\n",
    "ps[\"logreg_sk\"] = logreg_sk.predict(X=testX)\n",
    "ps[ps[\"correct\"] == ps[\"logreg_sk\"]].shape[0] / ps.shape[0]"
   ]
  },
  {
   "cell_type": "code",
   "execution_count": 6,
   "id": "f3612377-39ac-43e1-93c7-8b86e99fc77a",
   "metadata": {},
   "outputs": [],
   "source": [
    "# creates a random unit vector of ndim dimensions\n",
    "def ruvect(ndim):\n",
    "    out=[]\n",
    "    for i in range(ndim):\n",
    "        out.append(np.random.randint(-100,100))\n",
    "    out = np.array(out)\n",
    "    out = out/np.linalg.norm(out)\n",
    "    return out"
   ]
  },
  {
   "cell_type": "code",
   "execution_count": 7,
   "id": "4b1d543b-38d5-4949-8244-4a63308239ab",
   "metadata": {},
   "outputs": [],
   "source": [
    "# finds centroid of list of points in np array of nxd dimensions, returns point of d dims\n",
    "def calc_centroid(cluster):\n",
    "    return np.mean(cluster, axis=0)"
   ]
  },
  {
   "cell_type": "code",
   "execution_count": 82,
   "id": "aa55ff0c-da1d-48bb-87de-ee42b8aaa7bb",
   "metadata": {},
   "outputs": [
    {
     "name": "stdout",
     "output_type": "stream",
     "text": [
      "0.0030615516270547333\n"
     ]
    }
   ],
   "source": [
    "# X and y expected to be numpy arrays where y only contains 0's and 1's\n",
    "def lda(X,y):\n",
    "    # 1 is for intercept L(w) = w0 + w1x1 + w2x2 +...+ wdxd\n",
    "    w = ruvect(X.shape[1]) \n",
    "    \n",
    "    # adds a column of 1's to front (for intercept) -- unecessary as position of w doesnt matter\n",
    "#     X = np.append(np.array([[1] * X.shape[0]]).T, X, axis=1)\n",
    "    X0 = X[y==0]\n",
    "    X1 = X[y==1]\n",
    "    \n",
    "    # Centroids of data (d dimensional)\n",
    "    mu0 = calc_centroid(X0)\n",
    "    mu1 = calc_centroid(X1)\n",
    "    \n",
    "    B = np.einsum(\"i,j->ij\", mu0-mu1, mu0-mu1)\n",
    "    S = np.einsum(\"Nd,Ni->di\", X0-mu0, X0-mu0)\n",
    "    eta = 0.001\n",
    "    diff = 100\n",
    "    iters = 0\n",
    "    while diff > 0.1 or iters>100:\n",
    "        # Derivative of J w\n",
    "        djnum1 = 2*np.matmul(B,w)*(np.matmul(np.matmul(w,S),w))\n",
    "        djnum2 = 2*np.matmul(S,w)*(np.matmul(np.matmul(w,B),w))\n",
    "        djdem = np.matmul(np.matmul(w,S),w)**2\n",
    "        \n",
    "        djw = (djnum1-djnum2)/djdem\n",
    "        \n",
    "        oldw = w\n",
    "        w = w + eta*djw\n",
    "        diff = np.linalg.norm(oldw - w)\n",
    "        print(diff)\n",
    "w = lda(trainX, trainy)"
   ]
  },
  {
   "cell_type": "code",
   "execution_count": 55,
   "id": "d3f0159a-f9dd-4a43-b4f2-ea05095ae92a",
   "metadata": {},
   "outputs": [
    {
     "data": {
      "text/plain": [
       "0.8729232727064806"
      ]
     },
     "execution_count": 55,
     "metadata": {},
     "output_type": "execute_result"
    }
   ],
   "source": [
    "a=np.array([ 0.29977788, -0.71805428, -0.35613354,  0.13545516, -0.52591784])\n",
    "b=np.array([ 0.29977788, -0.81885049, -0.02732225, -0.61686482, -0.80472413])\n",
    "np.linalg.norm(a-b)"
   ]
  },
  {
   "cell_type": "code",
   "execution_count": 9,
   "id": "f864873c-3973-4f67-812b-67f2084461e2",
   "metadata": {},
   "outputs": [],
   "source": [
    "def lda_pred(lda,X):\n",
    "    pass"
   ]
  },
  {
   "cell_type": "code",
   "execution_count": 14,
   "id": "87670310-31c9-4a53-a943-6db87965a429",
   "metadata": {},
   "outputs": [],
   "source": [
    "# space = np.linspace(0,10,200)\n",
    "# w = ruvect(5)\n",
    "# X = np.array([ruvect(4) for i in range(10)])\n",
    "# X = np.append(np.array([[1] * X.shape[0]]).T, X, axis=1)\n",
    "# np.matmul(X,w.T)"
   ]
  },
  {
   "cell_type": "code",
   "execution_count": 20,
   "id": "218b376d-7f53-4d17-930e-25782ba0103b",
   "metadata": {},
   "outputs": [],
   "source": [
    "X0 = np.array([ruvect(3)*100 for i in range(10)])\n",
    "X1 = np.array([ruvect(3)*100 for i in range(5)])\n",
    "mu0 = calc_centroid(X0)\n",
    "mu1 = calc_centroid(X1)\n",
    "w = ruvect(3)\n",
    "\n",
    "B=np.einsum(\"i,j->ij\", mu0-mu1, mu0-mu1)\n",
    "mdist = np.einsum(\"d,d->\",np.einsum(\"d,di->i\",w,B),w)\n",
    "\n",
    "xmdif = X0-mu0\n",
    "S = np.einsum(\"Nd,Ni->di\",xmdif, xmdif)"
   ]
  },
  {
   "cell_type": "code",
   "execution_count": 40,
   "id": "a974c85e-145f-419a-9343-d48fd7751060",
   "metadata": {},
   "outputs": [
    {
     "data": {
      "text/plain": [
       "array([ 0.02343267, -0.01803257,  0.06788248])"
      ]
     },
     "execution_count": 40,
     "metadata": {},
     "output_type": "execute_result"
    }
   ],
   "source": []
  },
  {
   "cell_type": "code",
   "execution_count": 37,
   "id": "81ad4f14-e7a8-4350-95ac-a7a94967722e",
   "metadata": {},
   "outputs": [
    {
     "data": {
      "text/plain": [
       "41573.96144092847"
      ]
     },
     "execution_count": 37,
     "metadata": {},
     "output_type": "execute_result"
    }
   ],
   "source": []
  },
  {
   "cell_type": "code",
   "execution_count": null,
   "id": "8dcb7eb1-64a6-4810-a0c8-7dbf1461ee38",
   "metadata": {},
   "outputs": [],
   "source": [
    "a=np.array([1,2,3])\n",
    "b=np.array([2,5,10])\n",
    "w=np.array([1,-1,100])\n",
    "B = np.einsum(\"i,j->ij\", a,b)\n",
    "np.einsum(\"d,d->\",np.einsum(\"d,di->i\",w,B),w))"
   ]
  },
  {
   "cell_type": "code",
   "execution_count": null,
   "id": "eb2bee19-7baf-4421-aa13-3fa81f12f3f1",
   "metadata": {},
   "outputs": [],
   "source": [
    "fig = plt.figure()\n",
    "ax = fig.add_subplot()#projection=\"2d\")\n",
    "ax.scatter(X0[:,0],X0[:,1])\n",
    "ax.scatter(X1[:,0],X1[:,1])\n",
    "ax.set_xlabel('X Label')\n",
    "ax.set_ylabel('Y Label')\n"
   ]
  },
  {
   "cell_type": "code",
   "execution_count": null,
   "id": "654a7074-2019-44fd-8221-1c04c0975b68",
   "metadata": {},
   "outputs": [],
   "source": [
    "A=np.array([\n",
    "    [1,2,3],\n",
    "    [1,2,3],\n",
    "    [1,2,3]\n",
    "])\n",
    "B=np.array([\n",
    "    [2,5,10],\n",
    "    [2,5,10],\n",
    "    [2,5,10]\n",
    "])\n",
    "\n",
    "\n",
    "tot = np.einsum(\"i,j->ij\",A[0],B[0])\n",
    "for i in range(1,3):\n",
    "    tot += np.einsum(\"i,j->ij\",A[i],B[i])\n",
    "tot, np.einsum(\"Nd,Ni->di\",A,B)"
   ]
  }
 ],
 "metadata": {
  "kernelspec": {
   "display_name": "Python 3",
   "language": "python",
   "name": "python3"
  },
  "language_info": {
   "codemirror_mode": {
    "name": "ipython",
    "version": 3
   },
   "file_extension": ".py",
   "mimetype": "text/x-python",
   "name": "python",
   "nbconvert_exporter": "python",
   "pygments_lexer": "ipython3",
   "version": "3.8.8"
  }
 },
 "nbformat": 4,
 "nbformat_minor": 5
}
