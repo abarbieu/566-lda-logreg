{
 "cells": [
  {
   "cell_type": "code",
   "execution_count": 1,
   "id": "95f5ed9d-6e5d-4a90-a561-91b1641ee913",
   "metadata": {},
   "outputs": [],
   "source": [
    "import pandas as pd\n",
    "import numpy as np\n",
    "import math\n",
    "import matplotlib.pyplot as plt\n",
    "import sklearn.datasets\n",
    "from sklearn.discriminant_analysis import LinearDiscriminantAnalysis\n",
    "from sklearn.linear_model import LogisticRegression\n",
    "from sklearn.model_selection import train_test_split\n",
    "from sklearn.preprocessing import StandardScaler\n",
    "pd.options.mode.chained_assignment = None"
   ]
  },
  {
   "cell_type": "code",
   "execution_count": 2,
   "id": "35ea360b-e6b5-4c40-8b3d-35de8dda7045",
   "metadata": {},
   "outputs": [],
   "source": [
    "iris = sklearn.datasets.load_iris(as_frame=True)\n",
    "irisX = iris.data\n",
    "irisy = iris.target\n",
    "setA = irisy <= 1\n",
    "setB = irisy > 0\n",
    "setC = irisy != 1\n",
    "\n",
    "irisAX = irisX[setA]\n",
    "irisAy = irisy[setA]\n",
    "irisBX = irisX[setB]\n",
    "irisBy = irisy[setB] - 1\n",
    "irisCX = irisX[setC]\n",
    "irisCy = irisy[setC]/2"
   ]
  },
  {
   "cell_type": "code",
   "execution_count": 3,
   "id": "d09f8404-73cf-42aa-a38e-b41eb774fa5c",
   "metadata": {},
   "outputs": [],
   "source": [
    "trainX, testX, trainy, testy = train_test_split(\n",
    "    irisAX,\n",
    "    irisAy,\n",
    "    test_size=0.2)"
   ]
  },
  {
   "cell_type": "code",
   "execution_count": 4,
   "id": "138240ec-5cb4-4c20-a280-214232883739",
   "metadata": {},
   "outputs": [
    {
     "data": {
      "text/plain": [
       "array([[ -3.81393024, -16.91161757,  19.23322198,  29.16582305]])"
      ]
     },
     "execution_count": 4,
     "metadata": {},
     "output_type": "execute_result"
    }
   ],
   "source": [
    "lda_sk = LinearDiscriminantAnalysis(solver=\"lsqr\")\n",
    "lda_sk.fit(X=trainX, y=trainy)\n",
    "lda_sk.coef_"
   ]
  },
  {
   "cell_type": "code",
   "execution_count": 6,
   "id": "46124046-bad6-4f36-9d2e-5836de993569",
   "metadata": {},
   "outputs": [
    {
     "name": "stderr",
     "output_type": "stream",
     "text": [
      "C:\\Users\\barbi\\anaconda3\\lib\\site-packages\\sklearn\\linear_model\\_sag.py:328: ConvergenceWarning: The max_iter was reached which means the coef_ did not converge\n",
      "  warnings.warn(\"The max_iter was reached which means \"\n"
     ]
    },
    {
     "data": {
      "text/plain": [
       "LogisticRegression(solver='sag')"
      ]
     },
     "execution_count": 6,
     "metadata": {},
     "output_type": "execute_result"
    }
   ],
   "source": [
    "logreg_sk = LogisticRegression(solver = \"sag\")\n",
    "logreg_sk.fit(X=trainX, y=trainy)"
   ]
  },
  {
   "cell_type": "code",
   "execution_count": 7,
   "id": "f3612377-39ac-43e1-93c7-8b86e99fc77a",
   "metadata": {},
   "outputs": [],
   "source": [
    "# creates a random unit vector of ndim dimensions\n",
    "def ruvect(ndim):\n",
    "    out=[]\n",
    "    for i in range(ndim):\n",
    "        out.append(np.random.randint(-100,100))\n",
    "    out = np.array(out)\n",
    "    out = out/np.linalg.norm(out)\n",
    "    return out"
   ]
  },
  {
   "cell_type": "code",
   "execution_count": 8,
   "id": "4b1d543b-38d5-4949-8244-4a63308239ab",
   "metadata": {},
   "outputs": [],
   "source": [
    "# finds centroid of list of points in np array of nxd dimensions, returns point of d dims\n",
    "def calc_centroid(cluster):\n",
    "    return np.mean(cluster, axis=0)"
   ]
  },
  {
   "cell_type": "code",
   "execution_count": 37,
   "id": "aa55ff0c-da1d-48bb-87de-ee42b8aaa7bb",
   "metadata": {},
   "outputs": [
    {
     "data": {
      "text/plain": [
       "34    True\n",
       "10    True\n",
       "28    True\n",
       "2     True\n",
       "81    True\n",
       "      ... \n",
       "80    True\n",
       "78    True\n",
       "65    True\n",
       "37    True\n",
       "24    True\n",
       "Length: 80, dtype: bool"
      ]
     },
     "execution_count": 37,
     "metadata": {},
     "output_type": "execute_result"
    }
   ],
   "source": [
    "# X and y expected to be numpy arrays where y only contains 0's and 1's\n",
    "def lda(X,y):\n",
    "    # 1 is for intercept L(w) = w0 + w1x1 + w2x2 +...+ wdxd\n",
    "    w = ruvect(X.shape[1]) \n",
    "    \n",
    "    # adds a column of 1's to front (for intercept) -- unecessary as position of w doesnt matter\n",
    "#     X = np.append(np.array([[1] * X.shape[0]]).T, X, axis=1)\n",
    "    X0 = X[y==0]\n",
    "    X1 = X[y==1]\n",
    "    \n",
    "    # Centroids of data (d dimensional)\n",
    "    mu0 = calc_centroid(X0)\n",
    "    mu1 = calc_centroid(X1)\n",
    "    \n",
    "    B = np.einsum(\"i,j->ij\", mu0-mu1, mu0-mu1)\n",
    "    S = np.einsum(\"Nd,Ni->di\", X0-mu0, X0-mu0)\n",
    "    eta = 0.1\n",
    "    djw_norm = 100\n",
    "    iters = 0\n",
    "    while djw_norm > 0.01 and iters<500:\n",
    "        # Derivative of J w\n",
    "        djnum1 = 2*np.matmul(B,w)*(np.matmul(np.matmul(w,S),w))\n",
    "        djnum2 = 2*np.matmul(S,w)*(np.matmul(np.matmul(w,B),w))\n",
    "        djdem = np.matmul(np.matmul(w,S),w)**2\n",
    "        \n",
    "        djw = (djnum1-djnum2)/djdem\n",
    "        w = w + eta*djw\n",
    "        djw_norm = np.linalg.norm(djw)\n",
    "#         print(djw_norm, w)\n",
    "        iters+=1\n",
    "    return w, (np.dot(w,mu0)+np.dot(w,mu1))/2\n",
    "w,sep = lda(trainX, trainy)\n",
    "ldapred= np.matmul(w,trainX.T) < sep\n",
    "trainy == ldapred"
   ]
  }
 ],
 "metadata": {
  "kernelspec": {
   "display_name": "Python 3",
   "language": "python",
   "name": "python3"
  },
  "language_info": {
   "codemirror_mode": {
    "name": "ipython",
    "version": 3
   },
   "file_extension": ".py",
   "mimetype": "text/x-python",
   "name": "python",
   "nbconvert_exporter": "python",
   "pygments_lexer": "ipython3",
   "version": "3.8.8"
  }
 },
 "nbformat": 4,
 "nbformat_minor": 5
}
