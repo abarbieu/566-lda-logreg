{
 "cells": [
  {
   "cell_type": "code",
   "execution_count": 134,
   "id": "95f5ed9d-6e5d-4a90-a561-91b1641ee913",
   "metadata": {},
   "outputs": [],
   "source": [
    "import pandas as pd\n",
    "import numpy as np\n",
    "import math\n",
    "import matplotlib.pyplot as plt\n",
    "import sklearn.datasets\n",
    "import altair as alt\n",
    "from sklearn.discriminant_analysis import LinearDiscriminantAnalysis\n",
    "from sklearn.linear_model import LogisticRegression\n",
    "from sklearn.model_selection import train_test_split\n",
    "from sklearn.preprocessing import StandardScaler\n",
    "pd.options.mode.chained_assignment = None"
   ]
  },
  {
   "cell_type": "code",
   "execution_count": 2,
   "id": "35ea360b-e6b5-4c40-8b3d-35de8dda7045",
   "metadata": {},
   "outputs": [],
   "source": [
    "iris = sklearn.datasets.load_iris(as_frame=True)\n",
    "irisX = iris.data\n",
    "irisy = iris.target\n",
    "setA = irisy <= 1\n",
    "setB = irisy > 0\n",
    "setC = irisy != 1\n",
    "\n",
    "irisAX = irisX[setA]\n",
    "irisAy = irisy[setA]\n",
    "irisBX = irisX[setB]\n",
    "irisBy = irisy[setB] - 1\n",
    "irisCX = irisX[setC]\n",
    "irisCy = irisy[setC]/2\n",
    "\n",
    "trainXs = [irisAX,irisBX,irisCX]\n",
    "trainys = [irisAy,irisBy,irisCy]"
   ]
  },
  {
   "cell_type": "code",
   "execution_count": 3,
   "id": "bf57375b-159c-4f61-ab83-0a822dc8b4d6",
   "metadata": {},
   "outputs": [],
   "source": [
    "trainX, testX, trainy, testy = train_test_split(\n",
    "    irisAX,\n",
    "    irisAy,\n",
    "    test_size=0.2)"
   ]
  },
  {
   "cell_type": "code",
   "execution_count": 4,
   "id": "f3612377-39ac-43e1-93c7-8b86e99fc77a",
   "metadata": {},
   "outputs": [],
   "source": [
    "# creates a random unit vector of ndim dimensions\n",
    "def ruvect(ndim):\n",
    "    out=[]\n",
    "    for i in range(ndim):\n",
    "        out.append(np.random.randint(-100,100))\n",
    "    out = np.array(out)\n",
    "    out = out/np.linalg.norm(out)\n",
    "    return out"
   ]
  },
  {
   "cell_type": "code",
   "execution_count": 5,
   "id": "4b1d543b-38d5-4949-8244-4a63308239ab",
   "metadata": {},
   "outputs": [],
   "source": [
    "# finds centroid of list of points in np array of nxd dimensions, returns point of d dims\n",
    "def calc_centroid(cluster):\n",
    "    return np.mean(cluster, axis=0)"
   ]
  },
  {
   "cell_type": "code",
   "execution_count": 181,
   "id": "aa55ff0c-da1d-48bb-87de-ee42b8aaa7bb",
   "metadata": {},
   "outputs": [
    {
     "data": {
      "text/plain": [
       "50     True\n",
       "51     True\n",
       "52     True\n",
       "53     True\n",
       "54     True\n",
       "       ... \n",
       "145    True\n",
       "146    True\n",
       "147    True\n",
       "148    True\n",
       "149    True\n",
       "Length: 100, dtype: bool"
      ]
     },
     "execution_count": 181,
     "metadata": {},
     "output_type": "execute_result"
    }
   ],
   "source": [
    "# X and y expected to be numpy arrays where y only contains 0's and 1's\n",
    "def lda(X,y):\n",
    "    # 1 is for intercept L(w) = w0 + w1x1 + w2x2 +...+ wdxd\n",
    "    w = ruvect(X.shape[1]) \n",
    "    \n",
    "    # adds a column of 1's to front (for intercept) -- unecessary as position of w doesnt matter\n",
    "#     X = np.append(np.array([[1] * X.shape[0]]).T, X, axis=1)\n",
    "    X0 = X[y==0]\n",
    "    X1 = X[y==1]\n",
    "    \n",
    "    # Centroids of data (d dimensional)\n",
    "    mu0 = calc_centroid(X0)\n",
    "    mu1 = calc_centroid(X1)\n",
    "    \n",
    "    B = np.einsum(\"i,j->ij\", mu0-mu1, mu0-mu1)\n",
    "    S = np.einsum(\"Nd,Ni->di\", X0-mu0, X0-mu0)\n",
    "    eta = 0.1\n",
    "    djw_norm = 100\n",
    "    iters = 0\n",
    "    while djw_norm > 0.01 and iters<500:\n",
    "        # Derivative of J w\n",
    "        djnum1 = 2*np.matmul(B,w)*(np.matmul(np.matmul(w,S),w))\n",
    "        djnum2 = 2*np.matmul(S,w)*(np.matmul(np.matmul(w,B),w))\n",
    "        djdem = np.matmul(np.matmul(w,S),w)**2\n",
    "        \n",
    "        djw = (djnum1-djnum2)/djdem\n",
    "        w = w + eta*djw\n",
    "        djw_norm = np.linalg.norm(djw)\n",
    "#         print(djw_norm, w)\n",
    "        iters+=1\n",
    "    \n",
    "    return w,(np.dot(w,mu0)+np.dot(w,mu1))/2\n",
    "\n",
    "def lda_pred(w,sep,X):\n",
    "    projs=np.matmul(w,X.T)\n",
    "    return projs>sep"
   ]
  },
  {
   "cell_type": "code",
   "execution_count": 7,
   "id": "7d766dbf-4899-4864-8908-dc63022652da",
   "metadata": {},
   "outputs": [],
   "source": [
    "def logreg(X,y):\n",
    "    w = ruvect(X.shape[1]+1)\n",
    "    X = np.append(np.array([[1] * X.shape[0]]).T, X, axis=1) # add intercept col\n",
    "\n",
    "    eta=0.1\n",
    "    errmag = 100\n",
    "    iters=0\n",
    "    while errmag> 0.1 and iters<100:\n",
    "        Xw = np.einsum(\"Nd,d->N\",X,w)\n",
    "        phat = np.divide(1,1+np.exp(-Xw))\n",
    "        derror = np.einsum(\"N,Nd->d\",y-phat,X)\n",
    "        \n",
    "        w += eta*derror\n",
    "        errmag = np.linalg.norm(derror)\n",
    "        iters+=1\n",
    "    return w\n",
    "\n",
    "def logreg_pred(X,w):\n",
    "    X = np.append(np.array([[1] * X.shape[0]]).T, X, axis=1) # add intercept column\n",
    "    return 1.0/(1-np.exp(np.einsum(\"Nd,d->N\",X,w))) < 0.5"
   ]
  },
  {
   "cell_type": "markdown",
   "id": "2def20cc-6567-49d8-b6b9-36319e30d36a",
   "metadata": {},
   "source": [
    "# Comparison"
   ]
  },
  {
   "cell_type": "code",
   "execution_count": 182,
   "id": "15aab060-566d-4ecd-ab21-df5046e4e7c0",
   "metadata": {},
   "outputs": [
    {
     "data": {
      "text/plain": [
       "array([[ 0.17938494, -0.46674436,  1.87804537,  1.36649524],\n",
       "       [-0.04632363, -0.33800016,  0.06250817,  0.95664025],\n",
       "       [-0.19162776,  0.57213847, -2.62864153, -2.40254213]])"
      ]
     },
     "execution_count": 182,
     "metadata": {},
     "output_type": "execute_result"
    }
   ],
   "source": [
    "w,sep = lda(irisBX,irisBy)\n",
    "lda_pred(w,sep,irisBX) == irisBy\n",
    "\n",
    "lda_ws=[]\n",
    "lda_seps=[]\n",
    "for x,y in zip(trainXs,trainys):\n",
    "    w,sep = lda(x,y)\n",
    "    lda_ws.append(w)\n",
    "    lda_seps.append(sep)\n",
    "lda_ws=np.asarray(lda_ws)\n",
    "lda_ws"
   ]
  },
  {
   "cell_type": "code",
   "execution_count": 9,
   "id": "2f0a29b8-784d-402c-8814-dcb72109b51a",
   "metadata": {},
   "outputs": [
    {
     "data": {
      "text/plain": [
       "array([[ -3.11507166, -18.39077486,  22.21040275,  31.4736377 ],\n",
       "       [ -3.6288803 ,  -5.69247004,   7.11237519,  12.6388175 ],\n",
       "       [-16.16463467, -12.26541407,  37.26365575,  37.50814735]])"
      ]
     },
     "execution_count": 9,
     "metadata": {},
     "output_type": "execute_result"
    }
   ],
   "source": [
    "lda_sk = LinearDiscriminantAnalysis(solver=\"lsqr\")\n",
    "lda_sk_ws=[]\n",
    "for X,y in zip(trainXs,trainys):\n",
    "    lda_sk.fit(X=X,y=y)\n",
    "    lda_sk_ws.append(lda_sk.coef_)\n",
    "# lda_pred(trainX,lda_sk_w,lda_sep) == trainy\n",
    "lda_sk_ws = np.asarray(lda_sk_ws)[:,0]\n",
    "lda_sk_ws"
   ]
  },
  {
   "cell_type": "code",
   "execution_count": 10,
   "id": "2b8a6c8c-2e2e-4754-a5e9-22c9bcee3ee1",
   "metadata": {},
   "outputs": [
    {
     "data": {
      "text/plain": [
       "array([[-0.05689756,  0.02520314,  0.0838352 ,  0.0430589 ],\n",
       "       [ 0.01280047,  0.05922321,  0.00884183,  0.07543849],\n",
       "       [-0.01188953,  0.04657019,  0.07051618,  0.06403047]])"
      ]
     },
     "execution_count": 10,
     "metadata": {},
     "output_type": "execute_result"
    }
   ],
   "source": [
    "np.einsum(\"ij,ij->ij\",lda_ws,1/np.array(lda_sk_ws))"
   ]
  },
  {
   "cell_type": "markdown",
   "id": "bc050efd-017b-488c-bfc6-d543d2c9438a",
   "metadata": {},
   "source": [
    "## Resulting ws are quite different, but somewhat similar relative to eachother"
   ]
  },
  {
   "cell_type": "code",
   "execution_count": 183,
   "id": "84edac25-ee87-4efa-8e7c-d90ceebf8941",
   "metadata": {},
   "outputs": [
    {
     "ename": "IndexError",
     "evalue": "tuple index out of range",
     "output_type": "error",
     "traceback": [
      "\u001b[1;31m---------------------------------------------------------------------------\u001b[0m",
      "\u001b[1;31mIndexError\u001b[0m                                Traceback (most recent call last)",
      "\u001b[1;32m<ipython-input-183-8b9d9d0ed1ee>\u001b[0m in \u001b[0;36m<module>\u001b[1;34m\u001b[0m\n\u001b[0;32m      1\u001b[0m \u001b[1;32mfor\u001b[0m \u001b[0mX\u001b[0m\u001b[1;33m,\u001b[0m\u001b[0my\u001b[0m\u001b[1;33m,\u001b[0m\u001b[0mw\u001b[0m\u001b[1;33m,\u001b[0m\u001b[0msep\u001b[0m \u001b[1;32min\u001b[0m \u001b[0mzip\u001b[0m\u001b[1;33m(\u001b[0m\u001b[0mtrainXs\u001b[0m\u001b[1;33m,\u001b[0m \u001b[0mtrainys\u001b[0m\u001b[1;33m,\u001b[0m \u001b[0mlda_ws\u001b[0m\u001b[1;33m,\u001b[0m \u001b[0mlda_seps\u001b[0m\u001b[1;33m)\u001b[0m\u001b[1;33m:\u001b[0m\u001b[1;33m\u001b[0m\u001b[1;33m\u001b[0m\u001b[0m\n\u001b[1;32m----> 2\u001b[1;33m     \u001b[0mprint\u001b[0m\u001b[1;33m(\u001b[0m\u001b[1;33m(\u001b[0m\u001b[0mlda_pred\u001b[0m\u001b[1;33m(\u001b[0m\u001b[0mX\u001b[0m\u001b[1;33m,\u001b[0m\u001b[0mw\u001b[0m\u001b[1;33m,\u001b[0m\u001b[0msep\u001b[0m\u001b[1;33m)\u001b[0m \u001b[1;33m==\u001b[0m \u001b[0my\u001b[0m\u001b[1;33m)\u001b[0m\u001b[1;33m.\u001b[0m\u001b[0mdescribe\u001b[0m\u001b[1;33m(\u001b[0m\u001b[1;33m)\u001b[0m\u001b[1;33m.\u001b[0m\u001b[0mfreq\u001b[0m\u001b[1;33m/\u001b[0m\u001b[1;36m100\u001b[0m\u001b[1;33m)\u001b[0m\u001b[1;33m\u001b[0m\u001b[1;33m\u001b[0m\u001b[0m\n\u001b[0m\u001b[0;32m      3\u001b[0m \u001b[0mlda_pred\u001b[0m\u001b[1;33m(\u001b[0m\u001b[0mtrainXs\u001b[0m\u001b[1;33m[\u001b[0m\u001b[1;36m0\u001b[0m\u001b[1;33m]\u001b[0m\u001b[1;33m,\u001b[0m\u001b[0mlda_ws\u001b[0m\u001b[1;33m[\u001b[0m\u001b[1;36m0\u001b[0m\u001b[1;33m]\u001b[0m\u001b[1;33m,\u001b[0m\u001b[0mlda_seps\u001b[0m\u001b[1;33m[\u001b[0m\u001b[1;36m0\u001b[0m\u001b[1;33m]\u001b[0m\u001b[1;33m)\u001b[0m\u001b[1;33m\u001b[0m\u001b[1;33m\u001b[0m\u001b[0m\n",
      "\u001b[1;32m<ipython-input-181-adb087cc959e>\u001b[0m in \u001b[0;36mlda_pred\u001b[1;34m(w, sep, X)\u001b[0m\n\u001b[0;32m     33\u001b[0m \u001b[1;33m\u001b[0m\u001b[0m\n\u001b[0;32m     34\u001b[0m \u001b[1;32mdef\u001b[0m \u001b[0mlda_pred\u001b[0m\u001b[1;33m(\u001b[0m\u001b[0mw\u001b[0m\u001b[1;33m,\u001b[0m\u001b[0msep\u001b[0m\u001b[1;33m,\u001b[0m\u001b[0mX\u001b[0m\u001b[1;33m)\u001b[0m\u001b[1;33m:\u001b[0m\u001b[1;33m\u001b[0m\u001b[1;33m\u001b[0m\u001b[0m\n\u001b[1;32m---> 35\u001b[1;33m     \u001b[0mprojs\u001b[0m\u001b[1;33m=\u001b[0m\u001b[0mnp\u001b[0m\u001b[1;33m.\u001b[0m\u001b[0mmatmul\u001b[0m\u001b[1;33m(\u001b[0m\u001b[0mw\u001b[0m\u001b[1;33m,\u001b[0m\u001b[0mX\u001b[0m\u001b[1;33m.\u001b[0m\u001b[0mT\u001b[0m\u001b[1;33m)\u001b[0m\u001b[1;33m\u001b[0m\u001b[1;33m\u001b[0m\u001b[0m\n\u001b[0m\u001b[0;32m     36\u001b[0m     \u001b[1;32mreturn\u001b[0m \u001b[0mprojs\u001b[0m\u001b[1;33m>\u001b[0m\u001b[0msep\u001b[0m\u001b[1;33m\u001b[0m\u001b[1;33m\u001b[0m\u001b[0m\n\u001b[0;32m     37\u001b[0m \u001b[1;33m\u001b[0m\u001b[0m\n",
      "\u001b[1;32m~\\anaconda3\\lib\\site-packages\\pandas\\core\\generic.py\u001b[0m in \u001b[0;36m__array_ufunc__\u001b[1;34m(self, ufunc, method, *inputs, **kwargs)\u001b[0m\n\u001b[0;32m   1934\u001b[0m         \u001b[0mself\u001b[0m\u001b[1;33m,\u001b[0m \u001b[0mufunc\u001b[0m\u001b[1;33m:\u001b[0m \u001b[0mCallable\u001b[0m\u001b[1;33m,\u001b[0m \u001b[0mmethod\u001b[0m\u001b[1;33m:\u001b[0m \u001b[0mstr\u001b[0m\u001b[1;33m,\u001b[0m \u001b[1;33m*\u001b[0m\u001b[0minputs\u001b[0m\u001b[1;33m:\u001b[0m \u001b[0mAny\u001b[0m\u001b[1;33m,\u001b[0m \u001b[1;33m**\u001b[0m\u001b[0mkwargs\u001b[0m\u001b[1;33m:\u001b[0m \u001b[0mAny\u001b[0m\u001b[1;33m\u001b[0m\u001b[1;33m\u001b[0m\u001b[0m\n\u001b[0;32m   1935\u001b[0m     ):\n\u001b[1;32m-> 1936\u001b[1;33m         \u001b[1;32mreturn\u001b[0m \u001b[0marraylike\u001b[0m\u001b[1;33m.\u001b[0m\u001b[0marray_ufunc\u001b[0m\u001b[1;33m(\u001b[0m\u001b[0mself\u001b[0m\u001b[1;33m,\u001b[0m \u001b[0mufunc\u001b[0m\u001b[1;33m,\u001b[0m \u001b[0mmethod\u001b[0m\u001b[1;33m,\u001b[0m \u001b[1;33m*\u001b[0m\u001b[0minputs\u001b[0m\u001b[1;33m,\u001b[0m \u001b[1;33m**\u001b[0m\u001b[0mkwargs\u001b[0m\u001b[1;33m)\u001b[0m\u001b[1;33m\u001b[0m\u001b[1;33m\u001b[0m\u001b[0m\n\u001b[0m\u001b[0;32m   1937\u001b[0m \u001b[1;33m\u001b[0m\u001b[0m\n\u001b[0;32m   1938\u001b[0m     \u001b[1;31m# ideally we would define this to avoid the getattr checks, but\u001b[0m\u001b[1;33m\u001b[0m\u001b[1;33m\u001b[0m\u001b[1;33m\u001b[0m\u001b[0m\n",
      "\u001b[1;32m~\\anaconda3\\lib\\site-packages\\pandas\\core\\arraylike.py\u001b[0m in \u001b[0;36marray_ufunc\u001b[1;34m(self, ufunc, method, *inputs, **kwargs)\u001b[0m\n\u001b[0;32m    248\u001b[0m \u001b[1;33m\u001b[0m\u001b[0m\n\u001b[0;32m    249\u001b[0m     \u001b[1;31m# for binary ops, use our custom dunder methods\u001b[0m\u001b[1;33m\u001b[0m\u001b[1;33m\u001b[0m\u001b[1;33m\u001b[0m\u001b[0m\n\u001b[1;32m--> 250\u001b[1;33m     \u001b[0mresult\u001b[0m \u001b[1;33m=\u001b[0m \u001b[0mmaybe_dispatch_ufunc_to_dunder_op\u001b[0m\u001b[1;33m(\u001b[0m\u001b[0mself\u001b[0m\u001b[1;33m,\u001b[0m \u001b[0mufunc\u001b[0m\u001b[1;33m,\u001b[0m \u001b[0mmethod\u001b[0m\u001b[1;33m,\u001b[0m \u001b[1;33m*\u001b[0m\u001b[0minputs\u001b[0m\u001b[1;33m,\u001b[0m \u001b[1;33m**\u001b[0m\u001b[0mkwargs\u001b[0m\u001b[1;33m)\u001b[0m\u001b[1;33m\u001b[0m\u001b[1;33m\u001b[0m\u001b[0m\n\u001b[0m\u001b[0;32m    251\u001b[0m     \u001b[1;32mif\u001b[0m \u001b[0mresult\u001b[0m \u001b[1;32mis\u001b[0m \u001b[1;32mnot\u001b[0m \u001b[0mNotImplemented\u001b[0m\u001b[1;33m:\u001b[0m\u001b[1;33m\u001b[0m\u001b[1;33m\u001b[0m\u001b[0m\n\u001b[0;32m    252\u001b[0m         \u001b[1;32mreturn\u001b[0m \u001b[0mresult\u001b[0m\u001b[1;33m\u001b[0m\u001b[1;33m\u001b[0m\u001b[0m\n",
      "\u001b[1;32mpandas\\_libs\\ops_dispatch.pyx\u001b[0m in \u001b[0;36mpandas._libs.ops_dispatch.maybe_dispatch_ufunc_to_dunder_op\u001b[1;34m()\u001b[0m\n",
      "\u001b[1;32m~\\anaconda3\\lib\\site-packages\\pandas\\core\\frame.py\u001b[0m in \u001b[0;36m__matmul__\u001b[1;34m(self, other)\u001b[0m\n\u001b[0;32m   1276\u001b[0m         \u001b[0mMatrix\u001b[0m \u001b[0mmultiplication\u001b[0m \u001b[0musing\u001b[0m \u001b[0mbinary\u001b[0m\u001b[0;31m \u001b[0m\u001b[0;31m`\u001b[0m\u001b[1;33m@\u001b[0m\u001b[0;31m`\u001b[0m \u001b[0moperator\u001b[0m \u001b[1;32min\u001b[0m \u001b[0mPython\u001b[0m\u001b[1;33m>=\u001b[0m\u001b[1;36m3.5\u001b[0m\u001b[1;33m.\u001b[0m\u001b[1;33m\u001b[0m\u001b[1;33m\u001b[0m\u001b[0m\n\u001b[0;32m   1277\u001b[0m         \"\"\"\n\u001b[1;32m-> 1278\u001b[1;33m         \u001b[1;32mreturn\u001b[0m \u001b[0mself\u001b[0m\u001b[1;33m.\u001b[0m\u001b[0mdot\u001b[0m\u001b[1;33m(\u001b[0m\u001b[0mother\u001b[0m\u001b[1;33m)\u001b[0m\u001b[1;33m\u001b[0m\u001b[1;33m\u001b[0m\u001b[0m\n\u001b[0m\u001b[0;32m   1279\u001b[0m \u001b[1;33m\u001b[0m\u001b[0m\n\u001b[0;32m   1280\u001b[0m     \u001b[1;32mdef\u001b[0m \u001b[0m__rmatmul__\u001b[0m\u001b[1;33m(\u001b[0m\u001b[0mself\u001b[0m\u001b[1;33m,\u001b[0m \u001b[0mother\u001b[0m\u001b[1;33m)\u001b[0m\u001b[1;33m:\u001b[0m\u001b[1;33m\u001b[0m\u001b[1;33m\u001b[0m\u001b[0m\n",
      "\u001b[1;32m~\\anaconda3\\lib\\site-packages\\pandas\\core\\frame.py\u001b[0m in \u001b[0;36mdot\u001b[1;34m(self, other)\u001b[0m\n\u001b[0;32m   1252\u001b[0m             \u001b[0mlvals\u001b[0m \u001b[1;33m=\u001b[0m \u001b[0mself\u001b[0m\u001b[1;33m.\u001b[0m\u001b[0mvalues\u001b[0m\u001b[1;33m\u001b[0m\u001b[1;33m\u001b[0m\u001b[0m\n\u001b[0;32m   1253\u001b[0m             \u001b[0mrvals\u001b[0m \u001b[1;33m=\u001b[0m \u001b[0mnp\u001b[0m\u001b[1;33m.\u001b[0m\u001b[0masarray\u001b[0m\u001b[1;33m(\u001b[0m\u001b[0mother\u001b[0m\u001b[1;33m)\u001b[0m\u001b[1;33m\u001b[0m\u001b[1;33m\u001b[0m\u001b[0m\n\u001b[1;32m-> 1254\u001b[1;33m             \u001b[1;32mif\u001b[0m \u001b[0mlvals\u001b[0m\u001b[1;33m.\u001b[0m\u001b[0mshape\u001b[0m\u001b[1;33m[\u001b[0m\u001b[1;36m1\u001b[0m\u001b[1;33m]\u001b[0m \u001b[1;33m!=\u001b[0m \u001b[0mrvals\u001b[0m\u001b[1;33m.\u001b[0m\u001b[0mshape\u001b[0m\u001b[1;33m[\u001b[0m\u001b[1;36m0\u001b[0m\u001b[1;33m]\u001b[0m\u001b[1;33m:\u001b[0m\u001b[1;33m\u001b[0m\u001b[1;33m\u001b[0m\u001b[0m\n\u001b[0m\u001b[0;32m   1255\u001b[0m                 raise ValueError(\n\u001b[0;32m   1256\u001b[0m                     \u001b[1;34mf\"Dot product shape mismatch, {lvals.shape} vs {rvals.shape}\"\u001b[0m\u001b[1;33m\u001b[0m\u001b[1;33m\u001b[0m\u001b[0m\n",
      "\u001b[1;31mIndexError\u001b[0m: tuple index out of range"
     ]
    }
   ],
   "source": [
    "for X,y,w,sep in zip(trainXs, trainys, lda_ws, lda_seps):\n",
    "    print((lda_pred(X,w,sep) == y).describe().freq/100)\n",
    "lda_pred(trainXs[0],lda_ws[0],lda_seps[0])"
   ]
  },
  {
   "cell_type": "code",
   "execution_count": null,
   "id": "020b3fc8-260c-4dda-931c-1ea6691a6bc2",
   "metadata": {},
   "outputs": [],
   "source": [
    "logreg_sk = LogisticRegression(solver = \"sag\")\n",
    "logreg_sk.fit(X=trainX, y=trainy)\n",
    "logreg_sk.coef_"
   ]
  }
 ],
 "metadata": {
  "kernelspec": {
   "display_name": "Python 3",
   "language": "python",
   "name": "python3"
  },
  "language_info": {
   "codemirror_mode": {
    "name": "ipython",
    "version": 3
   },
   "file_extension": ".py",
   "mimetype": "text/x-python",
   "name": "python",
   "nbconvert_exporter": "python",
   "pygments_lexer": "ipython3",
   "version": "3.8.8"
  }
 },
 "nbformat": 4,
 "nbformat_minor": 5
}
